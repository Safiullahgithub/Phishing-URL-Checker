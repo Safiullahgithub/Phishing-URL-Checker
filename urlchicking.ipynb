{
 "cells": [
  {
   "cell_type": "code",
   "execution_count": null,
   "id": "1b7a87b9-3db3-4541-a127-9e9e7c2a7ef2",
   "metadata": {},
   "outputs": [],
   "source": [
    "import urllib.request\n",
    "import urllib.parse\n",
    "import hashlib\n",
    "import json\n",
    "\n",
    "def is_phishing_url(url):\n",
    "    api_key = 'YOUR_API_KEY'  # Replace with your Google Safe Browsing API key\n",
    "\n",
    "    # Construct the URL for Safe Browsing API lookup\n",
    "    url_hash = hashlib.sha256(url.encode()).hexdigest()\n",
    "    api_url = 'https://safebrowsing.googleapis.com/v4/threatMatches:find?key={}'.format(api_key)\n",
    "    data = {\n",
    "        \"client\": {\n",
    "            \"clientId\": \"your_company_name\",\n",
    "            \"clientVersion\": \"1.5.2\"\n",
    "        },\n",
    "        \"threatInfo\": {\n",
    "            \"threatTypes\": [\"MALWARE\", \"SOCIAL_ENGINEERING\"],\n",
    "            \"platformTypes\": [\"ANY_PLATFORM\"],\n",
    "            \"threatEntryTypes\": [\"URL\"],\n",
    "            \"threatEntries\": [\n",
    "                {\"url\": url}\n",
    "            ]\n",
    "        }\n",
    "    }\n",
    "\n",
    "    # Make a POST request to the Safe Browsing API\n",
    "    req = urllib.request.Request(api_url, data=json.dumps(data).encode(), headers={'Content-Type': 'application/json'})\n",
    "    try:\n",
    "        with urllib.request.urlopen(req) as response:\n",
    "            result = json.loads(response.read().decode('utf-8'))\n",
    "            if result.get('matches'):\n",
    "                return True  # URL is malicious or a phishing URL\n",
    "            else:\n",
    "                return False  # URL is safe\n",
    "    except Exception as e:\n",
    "        print(\"Error occurred:\", e)\n",
    "        return False  # Assume URL is safe if an error occurs\n",
    "\n",
    "# Prompt user to enter a URL\n",
    "url = input(\"Enter the URL you want to check: \")\n",
    "\n",
    "# Check if the URL is a phishing URL\n",
    "if is_phishing_url(url):\n",
    "    print(f\"The URL {url} is potentially malicious or a phishing URL.\")\n",
    "else:\n",
    "    print(f\"The URL {url} is safe.\")\n"
   ]
  }
 ],
 "metadata": {
  "kernelspec": {
   "display_name": "Python 3 (ipykernel)",
   "language": "python",
   "name": "python3"
  },
  "language_info": {
   "codemirror_mode": {
    "name": "ipython",
    "version": 3
   },
   "file_extension": ".py",
   "mimetype": "text/x-python",
   "name": "python",
   "nbconvert_exporter": "python",
   "pygments_lexer": "ipython3",
   "version": "3.11.4"
  }
 },
 "nbformat": 4,
 "nbformat_minor": 5
}
